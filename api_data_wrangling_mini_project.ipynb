{
 "cells": [
  {
   "cell_type": "markdown",
   "metadata": {},
   "source": [
    "This exercise will require you to pull some data from the Qunadl API. Qaundl is currently the most widely used aggregator of financial market data."
   ]
  },
  {
   "cell_type": "markdown",
   "metadata": {},
   "source": [
    "As a first step, you will need to register a free account on the http://www.quandl.com website."
   ]
  },
  {
   "cell_type": "markdown",
   "metadata": {},
   "source": [
    "After you register, you will be provided with a unique API key, that you should store:"
   ]
  },
  {
   "cell_type": "code",
   "execution_count": 3,
   "metadata": {},
   "outputs": [],
   "source": [
    "# Store the API key as a string - according to PEP8, constants are always named in all upper case\n",
    "API_KEY = 'something'"
   ]
  },
  {
   "cell_type": "markdown",
   "metadata": {},
   "source": [
    "Qaundl has a large number of data sources, but, unfortunately, most of them require a Premium subscription. Still, there are also a good number of free datasets."
   ]
  },
  {
   "cell_type": "markdown",
   "metadata": {},
   "source": [
    "For this mini project, we will focus on equities data from the Frankfurt Stock Exhange (FSE), which is available for free. We'll try and analyze the stock prices of a company called Carl Zeiss Meditec, which manufactures tools for eye examinations, as well as medical lasers for laser eye surgery: https://www.zeiss.com/meditec/int/home.html. The company is listed under the stock ticker AFX_X."
   ]
  },
  {
   "cell_type": "markdown",
   "metadata": {},
   "source": [
    "You can find the detailed Quandl API instructions here: https://docs.quandl.com/docs/time-series"
   ]
  },
  {
   "cell_type": "markdown",
   "metadata": {},
   "source": [
    "While there is a dedicated Python package for connecting to the Quandl API, we would prefer that you use the *requests* package, which can be easily downloaded using *pip* or *conda*. You can find the documentation for the package here: http://docs.python-requests.org/en/master/ "
   ]
  },
  {
   "cell_type": "markdown",
   "metadata": {},
   "source": [
    "Finally, apart from the *requests* package, you are encouraged to not use any third party Python packages, such as *pandas*, and instead focus on what's available in the Python Standard Library (the *collections* module might come in handy: https://pymotw.com/3/collections/ ).\n",
    "Also, since you won't have access to DataFrames, you are encouraged to us Python's native data structures - preferably dictionaries, though some questions can also be answered using lists.\n",
    "You can read more on these data structures here: https://docs.python.org/3/tutorial/datastructures.html"
   ]
  },
  {
   "cell_type": "markdown",
   "metadata": {},
   "source": [
    "Keep in mind that the JSON responses you will be getting from the API map almost one-to-one to Python's dictionaries. Unfortunately, they can be very nested, so make sure you read up on indexing dictionaries in the documentation provided above."
   ]
  },
  {
   "cell_type": "code",
   "execution_count": 2,
   "metadata": {},
   "outputs": [
    {
     "name": "stdout",
     "output_type": "stream",
     "text": [
      "<Response [200]>\n"
     ]
    }
   ],
   "source": [
    "# First, import the relevant modules\n",
    "import requests\n",
    "res = requests.get('https://quandl.com')\n",
    "print(res)\n"
   ]
  },
  {
   "cell_type": "code",
   "execution_count": 76,
   "metadata": {},
   "outputs": [
    {
     "name": "stdout",
     "output_type": "stream",
     "text": [
      "<Response [200]>\n"
     ]
    }
   ],
   "source": [
    "sth1 = requests.get('https://www.quandl.com/api/v3/datasets/FSE/AFX_X/data.json?api_key=API_KEY')\n",
    "sth2 = requests.get('https://www.quandl.com/api/v3/datasets/FSE/AFX_X.json?start_date=2017-01-01&end_date=2017-12-31&api_key=API_KEY')\n",
    "sth3 = requests.get('https://www.quandl.com/api/v3/datasets/FSE/AFX_X/metadata.json?api_key=API_KEY')\n",
    "print(sth3)\n",
    "# sth1 is data, sth2 is data in 2017, sth3 is metadata"
   ]
  },
  {
   "cell_type": "code",
   "execution_count": 77,
   "metadata": {},
   "outputs": [
    {
     "data": {
      "text/plain": [
       "dict"
      ]
     },
     "execution_count": 77,
     "metadata": {},
     "output_type": "execute_result"
    }
   ],
   "source": [
    "my_data = sth2.json()\n",
    "type(my_data)"
   ]
  },
  {
   "cell_type": "code",
   "execution_count": 53,
   "metadata": {},
   "outputs": [
    {
     "name": "stdout",
     "output_type": "stream",
     "text": [
      "{'dataset': {'id': 10095370, 'dataset_code': 'AFX_X', 'database_code': 'FSE', 'name': 'Carl Zeiss Meditec (AFX_X)', 'description': 'Stock Prices for Carl Zeiss Meditec (2020-10-02) from the Frankfurt Stock Exchange.<br><br>Trading System: Xetra<br><br>ISIN: DE0005313704', 'refreshed_at': '2020-10-16T22:16:22.190Z', 'newest_available_date': '2020-10-16', 'oldest_available_date': '2000-06-07', 'column_names': ['Date', 'Open', 'High', 'Low', 'Close', 'Change', 'Traded Volume', 'Turnover', 'Last Price of the Day', 'Daily Traded Units', 'Daily Turnover'], 'frequency': 'daily', 'type': 'Time Series', 'premium': False, 'limit': None, 'transform': None, 'column_index': None, 'start_date': '2017-02-01', 'end_date': '2017-02-01', 'data': [['2017-02-01', 34.75, 36.0, 34.75, 35.94, None, 85137.0, 3038172.0, None, None, None]], 'collapse': None, 'order': None, 'database_id': 6129}}\n"
     ]
    }
   ],
   "source": [
    "# Now, call the Quandl API and pull out a small sample of the data (only one day) to get a glimpse\n",
    "# into the JSON structure that will be returned\n",
    "sth4 = requests.get('https://www.quandl.com/api/v3/datasets/FSE/AFX_X.json?start_date=2017-02-01&end_date=2017-02-01&api_key=API_KEY')\n",
    "print(sth4.json())"
   ]
  },
  {
   "cell_type": "code",
   "execution_count": 33,
   "metadata": {},
   "outputs": [
    {
     "name": "stdout",
     "output_type": "stream",
     "text": [
      "{'dataset': {'collapse': None,\n",
      "             'column_index': None,\n",
      "             'column_names': ['Date',\n",
      "                              'Open',\n",
      "                              'High',\n",
      "                              'Low',\n",
      "                              'Close',\n",
      "                              'Change',\n",
      "                              'Traded Volume',\n",
      "                              'Turnover',\n",
      "                              'Last Price of the Day',\n",
      "                              'Daily Traded Units',\n",
      "                              'Daily Turnover'],\n",
      "             'data': [],\n",
      "             'database_code': 'FSE',\n",
      "             'database_id': 6129,\n",
      "             'dataset_code': 'AFX_X',\n",
      "             'description': 'Stock Prices for Carl Zeiss Meditec (2020-10-02) '\n",
      "                            'from the Frankfurt Stock Exchange.<br><br>Trading '\n",
      "                            'System: Xetra<br><br>ISIN: DE0005313704',\n",
      "             'end_date': '2017-01-01',\n",
      "             'frequency': 'daily',\n",
      "             'id': 10095370,\n",
      "             'limit': None,\n",
      "             'name': 'Carl Zeiss Meditec (AFX_X)',\n",
      "             'newest_available_date': '2020-10-16',\n",
      "             'oldest_available_date': '2000-06-07',\n",
      "             'order': None,\n",
      "             'premium': False,\n",
      "             'refreshed_at': '2020-10-16T22:16:22.190Z',\n",
      "             'start_date': '2017-01-01',\n",
      "             'transform': None,\n",
      "             'type': 'Time Series'}}\n"
     ]
    }
   ],
   "source": [
    "# Inspect the JSON structure of the object you created, and take note of how nested it is,\n",
    "# as well as the overall structure\n",
    "import pprint\n",
    "pprint.pprint(sth4.json())"
   ]
  },
  {
   "cell_type": "code",
   "execution_count": 122,
   "metadata": {},
   "outputs": [
    {
     "data": {
      "text/plain": [
       "51.88"
      ]
     },
     "execution_count": 122,
     "metadata": {},
     "output_type": "execute_result"
    }
   ],
   "source": [
    "#sth5 = requests.get('https://www.quandl.com/api/v3/datasets/FSE/AFX_X.json?column_index=1&start_date=2017-01-01&end_date=2017-12-31&api_key=API_KEY')\n",
    "sth_ = sth5.json()\n",
    "my_list = sth_['dataset']['data']\n",
    "#print(type(my_list))\n",
    "#my_list[0][1]\n",
    "#print(my_list)\n",
    "max_value = max(my_list, key=lambda x: x[1])\n",
    "min_value = min(my_list, key=lambda x: x[1])\n",
    "my_list[5][1]"
   ]
  },
  {
   "cell_type": "code",
   "execution_count": 131,
   "metadata": {},
   "outputs": [
    {
     "name": "stdout",
     "output_type": "stream",
     "text": [
      "52.04\n",
      "51.2\n",
      "2.8100000000000023\n"
     ]
    }
   ],
   "source": [
    "#sth_high = requests.get('https://www.quandl.com/api/v3/datasets/FSE/AFX_X.json?column_index=2&start_date=2017-01-01&end_date=2017-12-31&api_key=API_KEY')\n",
    "#sth_low = requests.get('https://www.quandl.com/api/v3/datasets/FSE/AFX_X.json?column_index=3&start_date=2017-01-01&end_date=2017-12-31&api_key=API_KEY')\n",
    "sth_low_l = sth_low.json()\n",
    "my_list_low = sth_low_l['dataset']['data']\n",
    "print(my_list_high[5][1])\n",
    "print(my_list_low[5][1])\n",
    "length = len(my_list_low)\n",
    "new_list = []\n",
    "for i in range(length):\n",
    "    new_list.append(abs(my_list_high[i][1] - my_list_low[i][1]))\n",
    "max_diff = max(new_list)"
   ]
  },
  {
   "cell_type": "code",
   "execution_count": 132,
   "metadata": {},
   "outputs": [
    {
     "data": {
      "text/plain": [
       "2.559999999999995"
      ]
     },
     "execution_count": 132,
     "metadata": {},
     "output_type": "execute_result"
    }
   ],
   "source": [
    "sth_close = requests.get('https://www.quandl.com/api/v3/datasets/FSE/AFX_X.json?column_index=4&start_date=2017-01-01&end_date=2017-12-31&api_key=API_KEY')\n",
    "sth_close_l = sth_close.json()\n",
    "my_list_close = sth_close_l['dataset']['data']\n",
    "length = len(my_list_close)\n",
    "new_list2 = []\n",
    "for i in range(length-1):\n",
    "    new_list2.append(abs(my_list_close[i+1][1] - my_list_close[i][1]))\n",
    "largest_change = max(new_list2)\n",
    "largest_change"
   ]
  },
  {
   "cell_type": "code",
   "execution_count": 135,
   "metadata": {},
   "outputs": [
    {
     "data": {
      "text/plain": [
       "89124.33725490196"
      ]
     },
     "execution_count": 135,
     "metadata": {},
     "output_type": "execute_result"
    }
   ],
   "source": [
    "sth_tvolume = requests.get('https://www.quandl.com/api/v3/datasets/FSE/AFX_X.json?column_index=6&start_date=2017-01-01&end_date=2017-12-31&api_key=API_KEY')\n",
    "sth_tvolume_l = sth_tvolume.json()\n",
    "my_list_tvolume = sth_tvolume_l['dataset']['data']\n",
    "length = len(my_list_tvolume)\n",
    "new_list3 = []\n",
    "for i in range(length):\n",
    "    new_list3.append(my_list_tvolume[i][1])\n",
    "avg_trade = sum(new_list3)/length"
   ]
  },
  {
   "cell_type": "markdown",
   "metadata": {},
   "source": [
    "These are your tasks for this mini project:\n",
    "\n",
    "1. Collect data from the Franfurt Stock Exchange, for the ticker AFX_X, for the whole year 2017 (keep in mind that the date format is YYYY-MM-DD).\n",
    "2. Convert the returned JSON object into a Python dictionary.\n",
    "3. Calculate what the highest and lowest opening prices were for the stock in this period.\n",
    "4. What was the largest change in any one day (based on High and Low price)?\n",
    "5. What was the largest change between any two days (based on Closing Price)?\n",
    "6. What was the average daily trading volume during this year?\n",
    "7. (Optional) What was the median trading volume during this year. (Note: you may need to implement your own function for calculating the median.)"
   ]
  },
  {
   "cell_type": "code",
   "execution_count": null,
   "metadata": {
    "collapsed": true
   },
   "outputs": [],
   "source": [
    "#1. sth5\n",
    "#2. sth_\n",
    "#3. max_value, min_value\n",
    "#4. max_diff\n",
    "#5. largest_change\n",
    "#6. avg_trade\n"
   ]
  }
 ],
 "metadata": {
  "kernelspec": {
   "display_name": "Python 3",
   "language": "python",
   "name": "python3"
  },
  "language_info": {
   "codemirror_mode": {
    "name": "ipython",
    "version": 3
   },
   "file_extension": ".py",
   "mimetype": "text/x-python",
   "name": "python",
   "nbconvert_exporter": "python",
   "pygments_lexer": "ipython3",
   "version": "3.8.3"
  }
 },
 "nbformat": 4,
 "nbformat_minor": 2
}
